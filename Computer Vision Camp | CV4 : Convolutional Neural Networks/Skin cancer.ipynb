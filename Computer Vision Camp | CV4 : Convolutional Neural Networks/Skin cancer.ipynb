{
 "cells": [
  {
   "cell_type": "code",
   "execution_count": 9,
   "id": "cbe8f6e4",
   "metadata": {},
   "outputs": [],
   "source": [
    "#Important imports\n",
    "import torch\n",
    "from torch import nn as nn\n",
    "from torch.utils.data import DataLoader\n",
    "from torch import optim \n",
    "import matplotlib.pyplot as plt\n",
    "from torch.nn import functional as F\n",
    "from torchvision.datasets import ImageFolder\n",
    "from torchvision import transforms,models\n",
    "import matplotlib.pyplot as plt\n",
    "\n",
    "#Choosing devide to be gpu if existing\n",
    "DEVICE = torch.device('cpu' if torch.cuda.is_available else 'cpu')  "
   ]
  },
  {
   "cell_type": "code",
   "execution_count": 10,
   "id": "87e1c4db",
   "metadata": {},
   "outputs": [],
   "source": [
    "transformations = transforms.Compose([\n",
    "    transforms.Resize((224,224)),\n",
    "    transforms.ToTensor(),\n",
    "    transforms.Normalize(\n",
    "        mean=[0.485, 0.456, 0.406],\n",
    "        std=[0.229, 0.224, 0.225]\n",
    "    )\n",
    "])"
   ]
  },
  {
   "cell_type": "code",
   "execution_count": 11,
   "id": "02fe9c53",
   "metadata": {},
   "outputs": [],
   "source": [
    "train_data = ImageFolder(r'F:\\Eduard\\Autodezvoltare\\CV camp\\CVC4\\homework\\train', transform = transformations)\n",
    "test_data = ImageFolder(r'F:\\Eduard\\Autodezvoltare\\CV camp\\CVC4\\homework\\test', transform = transformations)"
   ]
  },
  {
   "cell_type": "code",
   "execution_count": 12,
   "id": "37eb5b77",
   "metadata": {},
   "outputs": [],
   "source": [
    "class Net(nn.Module):\n",
    "    \n",
    "    def __init__(self):\n",
    "        super().__init__()\n",
    "        \n",
    "        # (224,224)\n",
    "        \n",
    "        self.conv1 = nn.Conv2d(3, 32, kernel_size = 3, padding=1)\n",
    "        \n",
    "        self.pool1 = nn.MaxPool2d(2)\n",
    "        \n",
    "        # (112,112)\n",
    "        \n",
    "        self.conv2 = nn.Conv2d(32, 64, kernel_size = 3, padding = 1)\n",
    "        \n",
    "        self.pool2 = nn.MaxPool2d(2)\n",
    "        \n",
    "        # (56,56)\n",
    "        \n",
    "        self.conv3 = nn.Conv2d(64, 128, kernel_size = 3, padding = 1)\n",
    "        \n",
    "        self.pool3 = nn.MaxPool2d(2)\n",
    "        # (28,28)\n",
    "        \n",
    "        self.flatten = nn.Flatten()\n",
    "        \n",
    "        self.fc1 = nn.Linear(128*28*28,256)\n",
    "        self.fc2 = nn.Linear(256, 128)\n",
    "        self.fc3 = nn.Linear(128,1)\n",
    "    \n",
    "    def forward(self, x):\n",
    "        out = self.pool1(F.relu(self.conv1(x)))\n",
    "        out = self.pool2(F.relu(self.conv2(out)))\n",
    "        out = self.pool3(F.relu(self.conv3(out)))\n",
    "        \n",
    "        out = self.flatten(out)\n",
    "        \n",
    "        out = F.relu(self.fc1(out))\n",
    "        out = F.relu(self.fc2(out))\n",
    "        out = torch.sigmoid(self.fc3(out))\n",
    "        \n",
    "        return out"
   ]
  },
  {
   "cell_type": "code",
   "execution_count": 13,
   "id": "f5dfac68",
   "metadata": {},
   "outputs": [],
   "source": [
    "# Training loop for our network\n",
    "def training_loop(n_epochs, optimizer, model, loss_fn, train_loader, test_loader, print_plot=True):\n",
    "\n",
    "    #Initializing two lists to save accuracy to plot them later\n",
    "    train_accuracy = torch.zeros(n_epochs)\n",
    "    test_accuracy = torch.zeros(n_epochs)\n",
    "\n",
    "    #Going thru every epoch\n",
    "    for epoch in range(n_epochs):\n",
    "\n",
    "        #Going thru example, thru every batch, in our case, thru all data at once\n",
    "        for example, labels in train_loader:     \n",
    "\n",
    "            #Translating calculations to gpu if is available\n",
    "            example = example.to(DEVICE)\n",
    "            labels = labels.to(DEVICE)\n",
    "\n",
    "            # ensuring equal number of dimensions for labels and examples\n",
    "            labels  = labels.unsqueeze(1)\n",
    "\n",
    "            # running our data thru our data - forward\n",
    "            output = model(example.float())\n",
    "            # Getting loss of our network right now\n",
    "            loss = loss_fn(output, labels.float())\n",
    "\n",
    "            # Zeroing the gradient to not stack it from other iterations\n",
    "            optimizer.zero_grad()\n",
    "            #Runing backward part of the neural network, getting gradiets\n",
    "            loss.backward()\n",
    "            #Updating our paramters\n",
    "            optimizer.step()\n",
    "            \n",
    "            \n",
    "        with torch.no_grad():\n",
    "            \n",
    "            for loader, accuracy in [(train_loader, train_accuracy),(test_loader, test_accuracy)]:\n",
    "                correct = 0\n",
    "                total = 0\n",
    "\n",
    "                for examples, labels in loader:\n",
    "                    examples = examples.to(device=DEVICE)\n",
    "                    labels = labels.to(device=DEVICE).view(-1, 1)\n",
    "\n",
    "                    outputs = model(examples.float())\n",
    "                    predicted = torch.round(outputs)\n",
    "\n",
    "                    total += labels.shape[0]\n",
    "                    correct += (predicted == labels).sum()\n",
    "\n",
    "                accuracy[epoch] = correct / total\n",
    "                \n",
    "        print(f'Epoch {epoch+1})', \n",
    "              f'Train Accuracy: {train_accuracy[epoch]}',\n",
    "              f'Test Accuracy: {test_accuracy[epoch]}')\n",
    "\n",
    "    #If set to True, print graph of train and validation loss\n",
    "    if print_plot:\n",
    "\n",
    "        #Setting x-ticks\n",
    "        epochs = range(n_epochs)\n",
    "\n",
    "        #Ploting both curves, train and val \n",
    "        plt.plot(epochs, train_accuracy, 'g', label='Training accuracy')\n",
    "        plt.plot(epochs, test_accuracy, 'b', label='Test accuracy')\n",
    "        plt.title('Training and Test loss')\n",
    "        plt.xlabel('Epochs')\n",
    "        plt.ylabel('Loss')\n",
    "        plt.legend()\n",
    "        plt.show()"
   ]
  },
  {
   "cell_type": "code",
   "execution_count": 14,
   "id": "791f0373",
   "metadata": {},
   "outputs": [],
   "source": [
    "train_loader = DataLoader(train_data, batch_size = 32, shuffle =True)\n",
    "test_loader = DataLoader(test_data, batch_size = 32, shuffle =True)"
   ]
  },
  {
   "cell_type": "code",
   "execution_count": 15,
   "id": "df0e4177",
   "metadata": {},
   "outputs": [
    {
     "name": "stdout",
     "output_type": "stream",
     "text": [
      "Epoch 1) Train Accuracy: 0.7993932366371155 Test Accuracy: 0.7848485112190247\n",
      "Epoch 2) Train Accuracy: 0.8395904302597046 Test Accuracy: 0.8196969628334045\n",
      "Epoch 3) Train Accuracy: 0.8642396926879883 Test Accuracy: 0.8227272629737854\n",
      "Epoch 4) Train Accuracy: 0.8911641836166382 Test Accuracy: 0.8378787636756897\n",
      "Epoch 5) Train Accuracy: 0.9055745005607605 Test Accuracy: 0.8515151739120483\n",
      "Epoch 6) Train Accuracy: 0.9279484152793884 Test Accuracy: 0.8287878632545471\n",
      "Epoch 7) Train Accuracy: 0.9677664041519165 Test Accuracy: 0.8515151739120483\n",
      "Epoch 8) Train Accuracy: 0.9704209566116333 Test Accuracy: 0.8348484635353088\n",
      "Epoch 9) Train Accuracy: 0.9787637591362 Test Accuracy: 0.8257575631141663\n",
      "Epoch 10) Train Accuracy: 0.9935532808303833 Test Accuracy: 0.8303030133247375\n"
     ]
    },
    {
     "data": {
      "image/png": "[encoded data removed]",
      "text/plain": [
       "<Figure size 432x288 with 1 Axes>"
      ]
     },
     "metadata": {
      "needs_background": "light"
     },
     "output_type": "display_data"
    }
   ],
   "source": [
    "learning_rate = 1e-3 # 0.001\n",
    "\n",
    "model = Net().to(DEVICE)\n",
    "\n",
    "optimizer = optim.Adam(model.parameters(),lr = learning_rate)\n",
    "loss_fn = nn.BCELoss()\n",
    "\n",
    "training_loop(\n",
    "    n_epochs = 10,\n",
    "    optimizer = optimizer,\n",
    "    model = model,\n",
    "    loss_fn = loss_fn,\n",
    "    print_plot = True,\n",
    "    train_loader = train_loader,\n",
    "    test_loader = test_loader\n",
    ")"
   ]
  },
  {
   "cell_type": "code",
   "execution_count": 16,
   "id": "1d4d81c5",
   "metadata": {},
   "outputs": [
    {
     "name": "stdout",
     "output_type": "stream",
     "text": [
      "Epoch 1) Train Accuracy: 0.7819491624832153 Test Accuracy: 0.7878788113594055\n",
      "Epoch 2) Train Accuracy: 0.8376943469047546 Test Accuracy: 0.8196969628334045\n",
      "Epoch 3) Train Accuracy: 0.8282138705253601 Test Accuracy: 0.8227272629737854\n",
      "Epoch 4) Train Accuracy: 0.8331437110900879 Test Accuracy: 0.8333333134651184\n",
      "Epoch 5) Train Accuracy: 0.8486917018890381 Test Accuracy: 0.8303030133247375\n",
      "Epoch 6) Train Accuracy: 0.8695487380027771 Test Accuracy: 0.8515151739120483\n",
      "Epoch 7) Train Accuracy: 0.8904057741165161 Test Accuracy: 0.8606060743331909\n",
      "Epoch 8) Train Accuracy: 0.8873720169067383 Test Accuracy: 0.846969723701477\n",
      "Epoch 9) Train Accuracy: 0.9006446599960327 Test Accuracy: 0.831818163394928\n",
      "Epoch 10) Train Accuracy: 0.8665149807929993 Test Accuracy: 0.8363636136054993\n"
     ]
    },
    {
     "data": {
      "image/png": "[encoded data removed]",
      "text/plain": [
       "<Figure size 432x288 with 1 Axes>"
      ]
     },
     "metadata": {
      "needs_background": "light"
     },
     "output_type": "display_data"
    }
   ],
   "source": [
    "from collections import OrderedDict\n",
    "\n",
    "model = models.resnet50(pretrained = True)\n",
    "\n",
    "for param in model.parameters():\n",
    "    param.required_grad = False\n",
    "    \n",
    "nr_feat = model.fc.in_features #2048\n",
    "model.fc = nn.Sequential(OrderedDict([('fc',nn.Linear(nr_feat,1)),('sigmoid',nn.Sigmoid())]))\n",
    "\n",
    "learning_rate = 1e-3\n",
    "model = model.to(DEVICE)\n",
    "optimizer = optim.Adam(model.parameters(),lr = learning_rate)\n",
    "loss_fn = nn.BCELoss()\n",
    "\n",
    "#loss_fn = nn.BCEWithLogitsLoss()\n",
    "\n",
    "training_loop(\n",
    "    n_epochs = 10,\n",
    "    optimizer = optimizer,\n",
    "    model = model,\n",
    "    loss_fn = loss_fn,\n",
    "    print_plot = True,\n",
    "    train_loader = train_loader,\n",
    "    test_loader = test_loader\n",
    ")"
   ]
  },
  {
   "cell_type": "code",
   "execution_count": null,
   "id": "d320dec0",
   "metadata": {},
   "outputs": [],
   "source": []
  }
 ],
 "metadata": {
  "kernelspec": {
   "display_name": "Python 3",
   "language": "python",
   "name": "python3"
  },
  "language_info": {
   "codemirror_mode": {
    "name": "ipython",
    "version": 3
   },
   "file_extension": ".py",
   "mimetype": "text/x-python",
   "name": "python",
   "nbconvert_exporter": "python",
   "pygments_lexer": "ipython3",
   "version": "3.8.8"
  }
 },
 "nbformat": 4,
 "nbformat_minor": 5
}
